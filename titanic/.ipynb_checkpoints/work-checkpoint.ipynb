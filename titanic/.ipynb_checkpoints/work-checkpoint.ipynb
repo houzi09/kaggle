{
 "cells": [
  {
   "cell_type": "code",
   "execution_count": 1,
   "metadata": {
    "collapsed": false,
    "nbpresent": {
     "id": "a4406e60-2a07-4853-a1af-36c273241026"
    }
   },
   "outputs": [],
   "source": [
    "%matplotlib inline\n",
    "import pandas as pd\n",
    "import numpy as np\n",
    "import matplotlib.pyplot as plt\n",
    "\n",
    "from sklearn import preprocessing\n",
    "from sklearn.grid_search import GridSearchCV\n",
    "from sklearn.ensemble import RandomForestClassifier\n",
    "from sklearn.cross_validation import cross_val_score\n",
    "from sklearn.cross_validation import StratifiedKFold\n",
    "\n",
    "import re\n",
    "import time\n",
    "import features\n",
    "import model"
   ]
  },
  {
   "cell_type": "code",
   "execution_count": 2,
   "metadata": {
    "collapsed": false,
    "nbpresent": {
     "id": "d97e0a8c-98dd-4d78-a04f-e58a0f8013a3"
    }
   },
   "outputs": [
    {
     "name": "stdout",
     "output_type": "stream",
     "text": [
      "<class 'pandas.core.frame.DataFrame'>\n",
      "RangeIndex: 1309 entries, 0 to 1308\n",
      "Data columns (total 12 columns):\n",
      "Age            1046 non-null float64\n",
      "Cabin          295 non-null object\n",
      "Embarked       1307 non-null object\n",
      "Fare           1308 non-null float64\n",
      "Name           1309 non-null object\n",
      "Parch          1309 non-null int64\n",
      "PassengerId    1309 non-null int64\n",
      "Pclass         1309 non-null int64\n",
      "Sex            1309 non-null object\n",
      "SibSp          1309 non-null int64\n",
      "Survived       891 non-null float64\n",
      "Ticket         1309 non-null object\n",
      "dtypes: float64(3), int64(4), object(5)\n",
      "memory usage: 122.8+ KB\n",
      "None\n"
     ]
    }
   ],
   "source": [
    "data_dir = '/home/seaf/data/Titanic/'\n",
    "train_df = pd.read_csv(data_dir+'train.csv', header=0)\n",
    "test_df = pd.read_csv(data_dir+'test.csv', header=0)\n",
    "all_df=pd.concat([train_df, test_df]).reset_index(drop=True)\n",
    "\n",
    "print all_df.info()"
   ]
  },
  {
   "cell_type": "code",
   "execution_count": 3,
   "metadata": {
    "collapsed": false,
    "nbpresent": {
     "id": "63820de1-3aee-4c70-9ce7-b9abfc570700"
    }
   },
   "outputs": [
    {
     "name": "stderr",
     "output_type": "stream",
     "text": [
      "/home/seaf/.local/lib/python2.7/site-packages/sklearn/utils/validation.py:498: UserWarning: StandardScaler assumes floating point values as input, got int64\n",
      "  \"got %s\" % (estimator, X.dtype))\n"
     ]
    },
    {
     "name": "stdout",
     "output_type": "stream",
     "text": [
      "\n",
      "Starting with 106 manually generated features.\n",
      "\n",
      "\n",
      "Dropping 4 highly correlated features.\n",
      "\n",
      "Dropped columns:  ['Age_bin_id_scaled' 'Fare_bin_id_scaled' 'Parch_1' 'SibSp_1']\n",
      "\n",
      "100  features generated.\n",
      "\n"
     ]
    }
   ],
   "source": [
    "###########################################################################################################\n",
    "# generate featres\n",
    "#\n",
    "X, y, submit_df, submit_ids, y_weights = features.genDF(all_df, train_df.shape[0])\n"
   ]
  },
  {
   "cell_type": "code",
   "execution_count": 4,
   "metadata": {
    "collapsed": false
   },
   "outputs": [
    {
     "name": "stdout",
     "output_type": "stream",
     "text": [
      "Drop less important features:  ['CabinLetter_0' 'CabinLetter_1' 'CabinLetter_2' 'CabinLetter_3'\n",
      " 'CabinLetter_4' 'CabinLetter_5' 'CabinLetter_6' 'CabinLetter_7'\n",
      " 'CabinLetter_8' 'TicketPrefixId' 'TicketPrefix_A' 'TicketPrefix_AQ'\n",
      " 'TicketPrefix_AS' 'TicketPrefix_C' 'TicketPrefix_CA'\n",
      " 'TicketPrefix_CASOTON' 'TicketPrefix_FA' 'TicketPrefix_FC'\n",
      " 'TicketPrefix_FCC' 'TicketPrefix_LINE' 'TicketPrefix_LP' 'TicketPrefix_PC'\n",
      " 'TicketPrefix_PP' 'TicketPrefix_PPP' 'TicketPrefix_SC' 'TicketPrefix_SCA'\n",
      " 'TicketPrefix_SCAH' 'TicketPrefix_SCOW' 'TicketPrefix_SCPARIS'\n",
      " 'TicketPrefix_SOC' 'TicketPrefix_SOP' 'TicketPrefix_SOPP'\n",
      " 'TicketPrefix_SOTONO' 'TicketPrefix_SOTONOQ' 'TicketPrefix_SP'\n",
      " 'TicketPrefix_SWPP' 'TicketPrefix_U' 'TicketPrefix_WC' 'TicketPrefix_WEP'\n",
      " 'Title_Dr' 'Title_Lady' 'Title_Master' 'Title_Rev' 'Title_Sir'\n",
      " 'SibSp_scaled' 'Parch_scaled' 'SibSp_2' 'SibSp_3' 'SibSp_4' 'SibSp_5'\n",
      " 'SibSp_6' 'SibSp_9' 'Parch_2' 'Parch_3' 'Parch_4' 'Parch_5' 'Parch_6'\n",
      " 'Parch_7' 'Parch_10' 'Family_3' 'Family_4' 'Family_5' 'Family_6'\n",
      " 'Family_7' 'Family_8' 'Family_9' 'Family_10' 'Family_13'\n",
      " 'Fare_[0.317, 7.896]' 'Fare_(7.896, 14.454]' 'Fare_(14.454, 31.275]'\n",
      " 'Fare_(31.275, 512.329]' 'Fare_bin_id' 'Embarked_0' 'Embarked_1'\n",
      " 'Embarked_2' 'Pclass_1' 'Pclass_2' 'isChild' 'Age_[0.17, 21.105]'\n",
      " 'Age_(21.105, 28.445]' 'Age_(28.445, 36]' 'Age_(36, 80]']\n",
      "\n",
      "17 Important features(> 18 % of max importance).\n",
      "\n"
     ]
    },
    {
     "data": {
      "image/png": "[encoded data removed]",
      "text/plain": [
       "<matplotlib.figure.Figure at 0x7ff85e0da390>"
      ]
     },
     "metadata": {},
     "output_type": "display_data"
    }
   ],
   "source": [
    "X_selected, submit_df_selected = features.selectImportance(X, y, submit_df,y_weights)"
   ]
  },
  {
   "cell_type": "code",
   "execution_count": 15,
   "metadata": {
    "collapsed": false,
    "nbpresent": {
     "id": "3608c4a5-817b-4134-bdbd-2f641bcdbf9e"
    }
   },
   "outputs": [
    {
     "name": "stdout",
     "output_type": "stream",
     "text": [
      "cv:  [0.8, 0.8444444444444444, 0.7640449438202247, 0.8764044943820225, 0.8202247191011236, 0.797752808988764, 0.8089887640449438, 0.797752808988764, 0.8314606741573034, 0.8409090909090909] 0.818198274884\n"
     ]
    }
   ],
   "source": [
    "\n",
    "from sklearn import linear_model\n",
    "\n",
    "lr_X = X_selected\n",
    "lr_X_submit = submit_df_selected\n",
    "\n",
    "lr_clf = linear_model.LogisticRegression(C=1.0, penalty='l1', tol=1e-6, class_weight={0:1 , 1:  y_weights})\n",
    "\n",
    "#lr_X_selected = lr_X.drop(['TicketNumber_scaled','CabinNumber_scaled'],1).iloc[:,:12]\n",
    "#lr_submit_selected = lr_submit_df.drop(['TicketNumber_scaled','CabinNumber_scaled'],1).iloc[:,:12]\n",
    "from sklearn.cross_validation import cross_val_score\n",
    "\n",
    "\n",
    "#cv = cross_val_score(lr_clf, lr_X.values[:,:15], y, cv=10)\n",
    "#print 'LR cv: ',  cv, cv.mean()\n",
    "\n",
    "lr_train_inds, lr_test_inds = cross_val_test_(lr_clf, lr_X.values[:,:15], y)\n",
    "\n",
    "# 0.824952332312"
   ]
  },
  {
   "cell_type": "code",
   "execution_count": 8,
   "metadata": {
    "collapsed": false
   },
   "outputs": [],
   "source": [
    "def cross_val_test_(m, X, y, n_folds=10):\n",
    "    skf = StratifiedKFold(y, n_folds)\n",
    "    trains = []\n",
    "    tests = []\n",
    "    values = []\n",
    "    for train_index, test_index in skf:\n",
    "        trains.append(train_index)\n",
    "        tests.append(test_index)      \n",
    "        x_train = [ X[i] for i in train_index ]        \n",
    "        y_train = [ y[i] for i in train_index ]\n",
    "        x_test = [ X[i] for i in test_index ]        \n",
    "        y_test = [ y[i] for i in test_index ]  \n",
    "        m.fit(np.array(x_train), np.array(y_train))\n",
    "        y_pred = m.predict(x_test)\n",
    "        v =  1-sum([ 1 if y_test[i]!=y_pred[i] else 0 for i in range(len(y_test))])*1.0/len(y_test)\n",
    "        values.append(v)\n",
    "    print 'cv: ', values, sum(values)*1.0/len(values)\n",
    "    \n",
    "    return trains,tests\n",
    "\n",
    "#a = cross_val_test_(lr_clf, lr_X.values[:,:15],y)\n"
   ]
  },
  {
   "cell_type": "code",
   "execution_count": null,
   "metadata": {
    "collapsed": true
   },
   "outputs": [],
   "source": [
    "lr_clf.fit(lr_X.values, y)\n",
    "pd.DataFrame({\"columns\":list(lr_X.columns), \"coef\":list(lr_clf.coef_.T)})"
   ]
  },
  {
   "cell_type": "code",
   "execution_count": 64,
   "metadata": {
    "collapsed": false
   },
   "outputs": [
    {
     "data": {
      "text/plain": [
       "(418,)"
      ]
     },
     "execution_count": 64,
     "metadata": {},
     "output_type": "execute_result"
    }
   ],
   "source": [
    "lr_pred = lr_clf.predict(lr_X_submit)\n",
    "lr_pred.shape"
   ]
  },
  {
   "cell_type": "code",
   "execution_count": 103,
   "metadata": {
    "collapsed": false
   },
   "outputs": [
    {
     "name": "stdout",
     "output_type": "stream",
     "text": [
      "SVC cv:  [ 0.77777778  0.78888889  0.75280899  0.85393258  0.83146067  0.80898876\n",
      "  0.80898876  0.79775281  0.87640449  0.85227273] 0.814927647259\n"
     ]
    }
   ],
   "source": [
    "###########################################################################################################\n",
    "# model SVC\n",
    "#\n",
    "from sklearn.svm import SVC\n",
    "svc_params = {\n",
    "    'C':0.5,\n",
    "    'class_weight':{0:1 , 1:  y_weights},\n",
    "    'random_state' : 7,\n",
    "    'kernel':'rbf',\n",
    "    'degree': 3\n",
    "}\n",
    "svc_clf = SVC(**svc_params)\n",
    "cv = cross_val_score(svc_clf, lr_X.values ,y, cv=10)\n",
    "print 'SVC cv: ', cv, cv.mean()\n",
    "\n",
    "#0.829384576098"
   ]
  },
  {
   "cell_type": "code",
   "execution_count": 78,
   "metadata": {
    "collapsed": false
   },
   "outputs": [
    {
     "data": {
      "text/plain": [
       "(418,)"
      ]
     },
     "execution_count": 78,
     "metadata": {},
     "output_type": "execute_result"
    }
   ],
   "source": [
    "svc_clf.fit(lr_X.values,y)\n",
    "svc_pred = svc_clf.predict(lr_X_submit.values)\n",
    "svc_pred.shape"
   ]
  },
  {
   "cell_type": "code",
   "execution_count": 5,
   "metadata": {
    "collapsed": false
   },
   "outputs": [
    {
     "data": {
      "text/plain": [
       "['Title_id_scaled',\n",
       " 'Family_scaled',\n",
       " 'Fare_[0.317, 7.896]',\n",
       " 'Fare_(7.896, 14.454]',\n",
       " 'Fare_(14.454, 31.275]',\n",
       " 'Fare_(31.275, 512.329]',\n",
       " 'Fare_bin_id',\n",
       " 'Fare_scaled',\n",
       " 'perFare_scaled',\n",
       " 'Gender',\n",
       " 'Pclass_scaled',\n",
       " 'Age_scaled',\n",
       " 'Age_[0.17, 21.105]',\n",
       " 'Age_(21.105, 28.445]',\n",
       " 'Age_(28.445, 36]',\n",
       " 'Age_(36, 80]',\n",
       " 'Age_bin_id']"
      ]
     },
     "execution_count": 5,
     "metadata": {},
     "output_type": "execute_result"
    }
   ],
   "source": [
    "###########################################################################################################\n",
    "# model RF\n",
    "#\n",
    "\n",
    "\n",
    "rf_columns = filter(lambda x:  re.match(r'perFare|Gender|Fare|Age.*', x) or\n",
    "                 (re.match(r'.*_scaled|.*_id', x) and  re.match(r'Title|Family|Pclass.*', x)) , X.columns)\n",
    "rf_X = X[rf_columns]\n",
    "rf_X_submit = submit_df[rf_columns]\n",
    "rf_columns\n",
    "\n",
    "#rf_X = X_selected\n"
   ]
  },
  {
   "cell_type": "code",
   "execution_count": 82,
   "metadata": {
    "collapsed": false,
    "nbpresent": {
     "id": "dcdce119-84ee-4e38-b769-c555af35e882"
    }
   },
   "outputs": [
    {
     "name": "stdout",
     "output_type": "stream",
     "text": [
      "sqrtfeat: 4\n",
      "minsampsplit: 13\n",
      "cv:  [0.7888888888888889, 0.8555555555555556, 0.7415730337078652, 0.9101123595505618, 0.9101123595505618, 0.8089887640449438, 0.8539325842696629, 0.797752808988764, 0.8651685393258427, 0.8409090909090909] 0.837299398479\n"
     ]
    }
   ],
   "source": [
    "sqrtfeat = int(np.sqrt(rf_X.shape[1]))\n",
    "print \"sqrtfeat:\", sqrtfeat\n",
    "minsampsplit = int(rf_X.shape[0]*0.015)\n",
    "print \"minsampsplit:\", minsampsplit\n",
    "\n",
    "rf_params = { \"n_estimators\"      : 2000,\n",
    "                \"max_features\"      : sqrtfeat,\n",
    "                \"min_samples_split\" : minsampsplit,\n",
    "                \"class_weight\": {0:1 , 1:  y_weights},\n",
    "                \"max_depth\": 7,\n",
    "                \"n_jobs\": -1,\n",
    "                \"oob_score\": True, \n",
    "                \"random_state\": 7\n",
    "            }\n",
    "\n",
    "'''\n",
    "rf_clf.fit(X.values, y.values)\n",
    "print \"oob:\",(\"%.3f\"%(rf_clf.oob_score_)).lstrip('0')\n",
    "\n",
    "submit_y = rf_clf.predict(submit_df)\n",
    "oob = (\"%.3f\"%(rf_clf.oob_score_)).lstrip('0')\n",
    "'''\n",
    "\n",
    "rf_clf = RandomForestClassifier(**rf_params)\n",
    "\n",
    "rf_train_inds, rf_tests_inds= cross_val_test_(rf_clf, rf_X.values, y.values)\n",
    "\n",
    "\n",
    "# 0.831668936557"
   ]
  },
  {
   "cell_type": "code",
   "execution_count": 83,
   "metadata": {
    "collapsed": false
   },
   "outputs": [
    {
     "data": {
      "text/plain": [
       "array([168, 169, 170, 171, 173, 174, 175, 176, 177, 178, 179, 180, 181,\n",
       "       182, 185, 188, 189, 191, 196, 197, 199, 200, 201, 202, 203, 205,\n",
       "       206, 207, 208, 209, 210, 211, 212, 213, 214, 215, 216, 217, 218,\n",
       "       219, 220, 221, 222, 223, 224, 225, 226, 227, 228, 229, 230, 231,\n",
       "       232, 233, 234, 235, 236, 237, 238, 239, 240, 241, 242, 243, 244,\n",
       "       245, 246, 247, 248, 249, 250, 255, 256, 257, 258, 259, 261, 267,\n",
       "       268, 269, 271, 272, 274, 275, 279, 283, 286, 288, 289])"
      ]
     },
     "execution_count": 83,
     "metadata": {},
     "output_type": "execute_result"
    }
   ],
   "source": [
    "rf_tests_inds[2]"
   ]
  },
  {
   "cell_type": "code",
   "execution_count": 90,
   "metadata": {
    "collapsed": false
   },
   "outputs": [
    {
     "data": {
      "text/plain": [
       "(418,)"
      ]
     },
     "execution_count": 90,
     "metadata": {},
     "output_type": "execute_result"
    }
   ],
   "source": [
    "rf_clf.fit(rf_X.values, y.values)\n",
    "rf_pred = rf_clf.predict(rf_X_submit)\n",
    "rf_pred.shape"
   ]
  },
  {
   "cell_type": "code",
   "execution_count": 6,
   "metadata": {
    "collapsed": false
   },
   "outputs": [],
   "source": [
    "###########################################################################################################\n",
    "# model XGB\n",
    "#\n",
    "\n",
    "'''\n",
    "xgb_columns = filter(lambda x: re.match(r'perFare|Gender|Fare|Age|Title.*', x) or\n",
    "                 ( re.match(r'.*_scaled',x) and re.match(r'Family|Pclass.*',x))  , X.columns)\n",
    "xgb_X = X[xgb_columns]\n",
    "xgb_X_submit = submit_df[xgb_columns]\n",
    "xgb_columns\n",
    "'''\n",
    "\n",
    "xgb_X = rf_X"
   ]
  },
  {
   "cell_type": "code",
   "execution_count": 9,
   "metadata": {
    "collapsed": false,
    "nbpresent": {
     "id": "46f50e95-e60d-49cc-adb2-211a4011a925"
    }
   },
   "outputs": [
    {
     "name": "stdout",
     "output_type": "stream",
     "text": [
      "cv:  [0.8, 0.8222222222222222, 0.7752808988764045, 0.8426966292134832, 0.8426966292134832, 0.8202247191011236, 0.8314606741573034, 0.8314606741573034, 0.8426966292134832, 0.8522727272727273] 0.826101180343\n"
     ]
    }
   ],
   "source": [
    "xgb_params ={'colsample_bytree':  0.36, #0.35999999999999999, \n",
    "             'scale_pos_weight': 1/y_weights, \n",
    "             'learning_rate': 0.01, \n",
    "             'nthread': -1,\n",
    "             'min_child_weight': 9, \n",
    "             'n_estimators': 500, \n",
    "             'subsample': 0.7, \n",
    "             'reg_lambda': 1.4000000000000001, \n",
    "             'seed': 7, \n",
    "             'objective': 'binary:logistic', \n",
    "             'max_depth': 5,\n",
    "             'gamma': 0.3}\n",
    "\n",
    "xgb_clf = model.getXGB_clf(xgb_params)\n",
    "#cv = cross_val_score(xgb_clf, rf_X.values,y.values, cv=10)\n",
    "#print 'xgb cv: ', cv, cv.mean()\n",
    "\n",
    "# 0.836112813529\n",
    "\n",
    "xgb_train_inds, xgb_test_inds = cross_val_test_(xgb_clf, rf_X.values, y.values)\n"
   ]
  },
  {
   "cell_type": "code",
   "execution_count": 94,
   "metadata": {
    "collapsed": false
   },
   "outputs": [
    {
     "data": {
      "text/plain": [
       "(418,)"
      ]
     },
     "execution_count": 94,
     "metadata": {},
     "output_type": "execute_result"
    }
   ],
   "source": [
    "xgb_clf.fit(rf_X.values, y.values)\n",
    "xgb_pred =  xgb_clf.predict(rf_X_submit.values)\n",
    "xgb_pred.shape"
   ]
  },
  {
   "cell_type": "code",
   "execution_count": 12,
   "metadata": {
    "collapsed": false
   },
   "outputs": [
    {
     "data": {
      "text/plain": [
       "\"\\nfor name,model in zip(['lr', 'svc', 'rf', 'xgb'],[lr_clf, svc_clf, rf_clf, xgb_clf]):\\n    model.fit(fit_x.values, fit_y)\\n    print name, valid_(y_bads, model.predict(X_bads.values))\\n\""
      ]
     },
     "execution_count": 12,
     "metadata": {},
     "output_type": "execute_result"
    }
   ],
   "source": [
    "test_bad_data = X_poly\n",
    "\n",
    "bad_inds = xgb_test_inds[2]\n",
    "X_bads = test_bad_data.iloc[bad_inds]\n",
    "y_bads = [y[i] for i in bad_inds]\n",
    "\n",
    "fit_inds = xgb_train_inds[2]\n",
    "fit_x = test_bad_data.iloc[fit_inds]\n",
    "fit_y = [y[i] for i in fit_inds]\n",
    "\n",
    "'''\n",
    "for name,model in zip(['lr', 'svc', 'rf', 'xgb'],[lr_clf, svc_clf, rf_clf, xgb_clf]):\n",
    "    model.fit(fit_x.values, fit_y)\n",
    "    print name, valid_(y_bads, model.predict(X_bads.values))\n",
    "'''"
   ]
  },
  {
   "cell_type": "code",
   "execution_count": 10,
   "metadata": {
    "collapsed": false
   },
   "outputs": [
    {
     "name": "stdout",
     "output_type": "stream",
     "text": [
      "(891, 100)\n",
      "\n",
      "280 new poly features generated\n",
      "(891, 380)\n"
     ]
    }
   ],
   "source": [
    "def genPolyFeatures(df):\n",
    "    columns = filter(lambda x: re.match(r'.*_scaled',x) , df.columns)    \n",
    "    numerics = df.loc[:, columns]\n",
    "    new_fields_count = 0\n",
    "    for i in range(0, numerics.columns.size-1):\n",
    "        for j in range(0, numerics.columns.size-1):\n",
    "            if i <= j:\n",
    "                name = str(numerics.columns.values[i]) + \"*\" + str(numerics.columns.values[j])\n",
    "                df = pd.concat([df, pd.Series(numerics.iloc[:,i] * numerics.iloc[:,j], name=name)], axis=1)\n",
    "                new_fields_count += 1\n",
    "            if i < j:\n",
    "                name = str(numerics.columns.values[i]) + \"+\" + str(numerics.columns.values[j])\n",
    "                df = pd.concat([df, pd.Series(numerics.iloc[:,i] + numerics.iloc[:,j], name=name)], axis=1)\n",
    "                new_fields_count += 1\n",
    "            if not i == j:\n",
    "                name = str(numerics.columns.values[i]) + \"/\" + str(numerics.columns.values[j])\n",
    "                df = pd.concat([df, pd.Series(numerics.iloc[:,i] / numerics.iloc[:,j], name=name)], axis=1)\n",
    "                name = str(numerics.columns.values[i]) + \"-\" + str(numerics.columns.values[j])\n",
    "                df = pd.concat([df, pd.Series(numerics.iloc[:,i] - numerics.iloc[:,j], name=name)], axis=1)\n",
    "                new_fields_count += 2\n",
    "\n",
    "    print \"\\n\", new_fields_count, \"new poly features generated\"\n",
    "    return df\n",
    "\n",
    "print X.shape\n",
    "X_poly = genPolyFeatures(X)\n",
    "print X_poly.shape"
   ]
  },
  {
   "cell_type": "code",
   "execution_count": null,
   "metadata": {
    "collapsed": true
   },
   "outputs": [],
   "source": [
    "\n",
    "#################  search features randomly\n",
    "\n",
    "import random\n",
    "import xgboost as xgb\n",
    "\n",
    "best_inds = []\n",
    "best_v = 0\n",
    "\n",
    "#p = xgb_clf.get_params()\n",
    "#p['n_estimators'] = 2000\n",
    "#xgb_clf2 = xgb.XGBClassifier(**p)\n",
    "\n",
    "for i in range(10,20):    \n",
    "    for j in range(30):\n",
    "        col_inds = range(len(X_poly.columns))\n",
    "        random.shuffle(col_inds)        \n",
    "        select_inds = col_inds[:i]        \n",
    "        m_clf.fit(fit_x.iloc[:,select_inds].values, fit_y)\n",
    "        v  = valid_(y_bads, m_clf.predict(X_bads.iloc[:,select_inds].values))\n",
    "        if v> best_v:\n",
    "            best_v = v\n",
    "            print best_v\n",
    "            best_inds = select_inds\n",
    "        \n",
    "#pd.DataFrame({\"columns\":list(fit_x.columns), \"coef\":list(lr_clf2.coef_.T)})\n"
   ]
  },
  {
   "cell_type": "code",
   "execution_count": null,
   "metadata": {
    "collapsed": false
   },
   "outputs": [],
   "source": [
    "best_inds"
   ]
  },
  {
   "cell_type": "code",
   "execution_count": 18,
   "metadata": {
    "collapsed": false
   },
   "outputs": [
    {
     "name": "stdout",
     "output_type": "stream",
     "text": [
      "0.808988764045\n"
     ]
    },
    {
     "data": {
      "text/plain": [
       "Index([u'CabinNumber_scaled/TicketNumber_scaled',\n",
       "       u'Title_id_scaled/Fare_scaled', u'TicketNumber_scaled-perFare_scaled',\n",
       "       u'Family_scaled', u'Parch_scaled*Parch_scaled',\n",
       "       u'TicketNumber_scaled-Pclass_scaled', u'Fare_scaled-Parch_scaled',\n",
       "       u'Title_id_scaled-Names_scaled', u'Family_scaled*Family_scaled',\n",
       "       u'CabinNumber_scaled*Pclass_scaled', u'Gender', u'TicketPrefixId',\n",
       "       u'TicketPrefix_AQ'],\n",
       "      dtype='object')"
      ]
     },
     "execution_count": 18,
     "metadata": {},
     "output_type": "execute_result"
    }
   ],
   "source": [
    "\n",
    "select_inds = [103, 226, 167, 55, 275, 171, 328, 210, 304, 133, 88, 10, 12]\n",
    "lr_clf2 = linear_model.LogisticRegression(C=1.0, penalty='l1', tol=1e-6, class_weight={0:1 , 1:  y_weights})\n",
    "lr_clf2.fit(fit_x.iloc[:,select_inds].values, fit_y)\n",
    "print valid_(y_bads, lr_clf2.predict(X_bads.iloc[:,select_inds].values))\n",
    "fit_x.columns[select_inds]"
   ]
  },
  {
   "cell_type": "code",
   "execution_count": 68,
   "metadata": {
    "collapsed": false
   },
   "outputs": [
    {
     "name": "stdout",
     "output_type": "stream",
     "text": [
      "[ 0.90502793  0.89385475  0.8988764   0.89325843  0.90960452] 0.90012440656\n"
     ]
    }
   ],
   "source": [
    "#X_poly['SP_']=0\n",
    "#X_poly.loc[bad_inds,'SP_']=1\n",
    "\n",
    "import xgboost as xgb\n",
    "\n",
    "sp_x = X_poly[X_poly.columns[:-1]]\n",
    "sp_y = X_poly.SP_\n",
    "sp_weights = np.sum(sp_y ==1)/float(np.sum(sp_y == 0))\n",
    "\n",
    "#m_clf3 = linear_model.LogisticRegression(C=1.0, penalty='l1', tol=1e-6, class_weight={0:1 , 1:  sp_weights})\n",
    "#m_clf3.fit(sp_x.values, sp_y)\n",
    "\n",
    "m_clf3 = RandomForestClassifier(n_estimators=2000, max_depth=5, class_weight= {0:1 , 1:  sp_weights}, min_samples_split=0.02)\n",
    "\n",
    "cv = cross_val_score(m_clf3, sp_x.values, sp_y, cv=5)\n",
    "print cv,cv.mean()\n"
   ]
  },
  {
   "cell_type": "code",
   "execution_count": 70,
   "metadata": {
    "collapsed": false
   },
   "outputs": [
    {
     "name": "stdout",
     "output_type": "stream",
     "text": [
      "\n",
      "280 new poly features generated\n",
      "(418, 380)\n"
     ]
    }
   ],
   "source": [
    "X_submit_poly = genPolyFeatures(submit_df)\n",
    "print X_submit_poly.shape\n",
    "m_clf3.fit(sp_x.values, sp_y)\n",
    "sp_pred = m_clf3.predict(X_submit_poly.values)\n"
   ]
  },
  {
   "cell_type": "code",
   "execution_count": 76,
   "metadata": {
    "collapsed": false
   },
   "outputs": [
    {
     "data": {
      "text/plain": [
       "2"
      ]
     },
     "execution_count": 76,
     "metadata": {},
     "output_type": "execute_result"
    }
   ],
   "source": [
    "sum(sp_pred==1)"
   ]
  },
  {
   "cell_type": "code",
   "execution_count": 80,
   "metadata": {
    "collapsed": false
   },
   "outputs": [],
   "source": [
    "xgb_clf.fit(rf_X.values, y.values)\n",
    "xgb_y_submit = xgb_clf.predict(rf_X_submit.values)\n",
    "p = xgb_y_submit\n",
    "name = 'xgb_sp_1.csv'"
   ]
  },
  {
   "cell_type": "code",
   "execution_count": 120,
   "metadata": {
    "collapsed": false
   },
   "outputs": [
    {
     "name": "stdout",
     "output_type": "stream",
     "text": [
      "2 [ 0.7         0.64444444  0.59550562  0.71910112  0.51685393  0.66292135\n",
      "  0.73033708  0.70786517  0.60674157  0.71590909] 0.659967937805\n",
      "3 [ 0.66666667  0.67777778  0.62921348  0.7752809   0.58426966  0.73033708\n",
      "  0.65168539  0.65168539  0.68539326  0.68181818] 0.67341277948\n",
      "4 [ 0.78888889  0.81111111  0.7752809   0.84269663  0.83146067  0.78651685\n",
      "  0.84269663  0.74157303  0.79775281  0.80681818] 0.802479570991\n"
     ]
    }
   ],
   "source": [
    "\n",
    "from sklearn import tree\n",
    "dt_clf = tree.DecisionTreeClassifier(class_weight={0:1 , 1:  y_weights}, random_state=3, criterion='entropy')\n",
    "best_i = 0\n",
    "best_cv = 0\n",
    "for i in range(2,18):\n",
    "    cv = cross_val_score(dt_clf, X_selected.values[:,:i], y, cv=10)\n",
    "    if cv.mean() > best_cv:\n",
    "        best_cv = cv.mean()        \n",
    "        best_i = i\n",
    "        print best_i, cv, best_cv\n"
   ]
  },
  {
   "cell_type": "code",
   "execution_count": 95,
   "metadata": {
    "collapsed": false
   },
   "outputs": [
    {
     "name": "stdout",
     "output_type": "stream",
     "text": [
      "ensemble cv:  0.818323402565\n"
     ]
    }
   ],
   "source": [
    "###########################################################################################################\n",
    "#  ensemble model\n",
    "#\n",
    "ens = model.Ensemble(5, RandomForestClassifier(n_estimators=2000, max_depth=5, class_weight= {0:1 , 1:  y_weights}),  [lr_clf, rf_clf, xgb_clf,svc_clf])\n",
    "#ens = Ensemble(5, model.getXGB_clf(xgb_params),  [lr_clf, rf_clf, xgb_clf])\n",
    "ens_pred, ens_prob = ens.fit_predict(rf_X.values, y, rf_X_submit.values)\n",
    "print 'ensemble cv: ', cross_val_score(ens.stacker, rf_X.values, y.values, cv=10).mean()\n",
    "\n",
    "# rf  lr_X  0.832779763931\n",
    "# rf  rf_X  0.835014754284\n",
    "# xgb rf_X  0.836112813529"
   ]
  },
  {
   "cell_type": "code",
   "execution_count": 131,
   "metadata": {
    "collapsed": false
   },
   "outputs": [],
   "source": [
    "lr_predict = map(lambda x : 1 if x>0.5 else 0 ,lr_prob)\n",
    "rf_predict = map(lambda x : 1 if x>0.5 else 0 , rf_prob)\n",
    "xgb_predict = map(lambda x : 1 if x>0.5 else 0, xgb_prob)"
   ]
  },
  {
   "cell_type": "code",
   "execution_count": 96,
   "metadata": {
    "collapsed": false
   },
   "outputs": [
    {
     "name": "stdout",
     "output_type": "stream",
     "text": [
      "30\n",
      "31\n",
      "32\n",
      "29\n",
      "0\n"
     ]
    }
   ],
   "source": [
    "def diff(a, b):\n",
    "    count =  0\n",
    "    for i, j in zip(a, b):\n",
    "        if i!=j:\n",
    "            count  += 1\n",
    "    return count\n",
    "\n",
    "p = ens_pred\n",
    "print diff(p, lr_pred)\n",
    "print diff(p, xgb_pred)\n",
    "print diff(p, rf_pred)\n",
    "print diff(p, svc_pred)\n",
    "print diff(p, ens_pred)"
   ]
  },
  {
   "cell_type": "code",
   "execution_count": 144,
   "metadata": {
    "collapsed": false
   },
   "outputs": [
    {
     "name": "stdout",
     "output_type": "stream",
     "text": [
      "0.346889952153\n"
     ]
    }
   ],
   "source": [
    "# 1 average by prob #####################################\n",
    "predict_average = []\n",
    "for i in range(len(lr_prob)):\n",
    "    v = lr_prob[i]+rf_prob[i]+xgb_prob[i]+ens_prob[i]\n",
    "    if v > 2: \n",
    "        p = 1\n",
    "    else:\n",
    "        p = 0\n",
    "    predict_average.append(p)\n",
    "\n",
    "predict_average = np.array(predict_average)\n",
    "print np.sum(predict_average ==1)/float(len(predict_average))\n",
    "p = predict_average\n",
    "name = \"predict_avg.csv\""
   ]
  },
  {
   "cell_type": "code",
   "execution_count": 148,
   "metadata": {
    "collapsed": false
   },
   "outputs": [
    {
     "name": "stdout",
     "output_type": "stream",
     "text": [
      "0.916666666667\n",
      "0.363636363636\n"
     ]
    }
   ],
   "source": [
    "# 2 rank by prob #####################\n",
    "\n",
    "p1 = np.array(xgb_prob) + np.array(rf_prob)/2.0 + np.array(lr_prob)/3.0\n",
    "t=(1+1/2.0+1/3.0)/2\n",
    "print t\n",
    "predict_rank = np.array(map(lambda x: 1 if x>t else 0, p1))\n",
    "print np.sum(predict_rank ==1)/float(len(predict_rank))\n",
    "p = predict_rank\n",
    "name = \"predict_rank.csv\""
   ]
  },
  {
   "cell_type": "code",
   "execution_count": 180,
   "metadata": {
    "collapsed": false
   },
   "outputs": [
    {
     "ename": "NameError",
     "evalue": "name 'xgb_predict' is not defined",
     "output_type": "error",
     "traceback": [
      "\u001b[0;31m\u001b[0m",
      "\u001b[0;31mNameError\u001b[0mTraceback (most recent call last)",
      "\u001b[0;32m<ipython-input-180-e4cf7484799e>\u001b[0m in \u001b[0;36m<module>\u001b[0;34m()\u001b[0m\n\u001b[1;32m      1\u001b[0m \u001b[0;31m# 3 avg by predict #####################  0.79904\u001b[0m\u001b[0;34m\u001b[0m\u001b[0;34m\u001b[0m\u001b[0m\n\u001b[0;32m----> 2\u001b[0;31m \u001b[0mp3\u001b[0m \u001b[0;34m=\u001b[0m \u001b[0mnp\u001b[0m\u001b[0;34m.\u001b[0m\u001b[0marray\u001b[0m\u001b[0;34m(\u001b[0m\u001b[0mxgb_predict\u001b[0m\u001b[0;34m)\u001b[0m \u001b[0;34m+\u001b[0m \u001b[0mnp\u001b[0m\u001b[0;34m.\u001b[0m\u001b[0marray\u001b[0m\u001b[0;34m(\u001b[0m\u001b[0mrf_predict\u001b[0m\u001b[0;34m)\u001b[0m \u001b[0;34m+\u001b[0m \u001b[0mnp\u001b[0m\u001b[0;34m.\u001b[0m\u001b[0marray\u001b[0m\u001b[0;34m(\u001b[0m\u001b[0mlr_predict\u001b[0m\u001b[0;34m)\u001b[0m \u001b[0;34m+\u001b[0m \u001b[0mnp\u001b[0m\u001b[0;34m.\u001b[0m\u001b[0marray\u001b[0m\u001b[0;34m(\u001b[0m\u001b[0mens_pred\u001b[0m\u001b[0;34m)\u001b[0m\u001b[0;34m\u001b[0m\u001b[0m\n\u001b[0m\u001b[1;32m      3\u001b[0m \u001b[0mp\u001b[0m \u001b[0;34m=\u001b[0m \u001b[0mnp\u001b[0m\u001b[0;34m.\u001b[0m\u001b[0marray\u001b[0m\u001b[0;34m(\u001b[0m\u001b[0mmap\u001b[0m\u001b[0;34m(\u001b[0m\u001b[0;32mlambda\u001b[0m \u001b[0mx\u001b[0m\u001b[0;34m:\u001b[0m \u001b[0;36m1\u001b[0m \u001b[0;32mif\u001b[0m \u001b[0mx\u001b[0m\u001b[0;34m>\u001b[0m\u001b[0;36m2\u001b[0m \u001b[0;32melse\u001b[0m \u001b[0;36m0\u001b[0m\u001b[0;34m,\u001b[0m \u001b[0mp3\u001b[0m\u001b[0;34m)\u001b[0m\u001b[0;34m)\u001b[0m\u001b[0;34m\u001b[0m\u001b[0m\n\u001b[1;32m      4\u001b[0m \u001b[0mname\u001b[0m \u001b[0;34m=\u001b[0m \u001b[0;34m\"predict_avg_p.csv\"\u001b[0m\u001b[0;34m\u001b[0m\u001b[0m\n\u001b[1;32m      5\u001b[0m \u001b[0mnp\u001b[0m\u001b[0;34m.\u001b[0m\u001b[0msum\u001b[0m\u001b[0;34m(\u001b[0m\u001b[0mp\u001b[0m \u001b[0;34m==\u001b[0m\u001b[0;36m1\u001b[0m\u001b[0;34m)\u001b[0m\u001b[0;34m/\u001b[0m\u001b[0mfloat\u001b[0m\u001b[0;34m(\u001b[0m\u001b[0mlen\u001b[0m\u001b[0;34m(\u001b[0m\u001b[0mp\u001b[0m\u001b[0;34m)\u001b[0m\u001b[0;34m)\u001b[0m\u001b[0;34m\u001b[0m\u001b[0m\n",
      "\u001b[0;31mNameError\u001b[0m: name 'xgb_predict' is not defined"
     ]
    }
   ],
   "source": [
    "# 3 avg by predict #####################  0.79904\n",
    "p3 = np.array(xgb_pred) + np.array(rf_pred) + np.array(lr_pred) + np.array(ens_pred)\n",
    "p = np.array(map(lambda x: 1 if x>2 else 0, p3))\n",
    "name = \"predict_avg_p.csv\"\n",
    "np.sum(p ==1)/float(len(p))"
   ]
  },
  {
   "cell_type": "code",
   "execution_count": 98,
   "metadata": {
    "collapsed": false
   },
   "outputs": [
    {
     "data": {
      "text/plain": [
       "0.32775119617224879"
      ]
     },
     "execution_count": 98,
     "metadata": {},
     "output_type": "execute_result"
    }
   ],
   "source": [
    "# 4 avg by predict #####################\n",
    "p3 = np.array(xgb_pred) + np.array(rf_pred) + np.array(lr_pred) + np.array(svc_pred) + np.array(ens_pred) \n",
    "p = np.array(map(lambda x: 1 if x>2 else 0, p3))\n",
    "name = \"predict_avg_p_5.csv\"\n",
    "np.sum(p ==1)/float(len(p))"
   ]
  },
  {
   "cell_type": "code",
   "execution_count": 81,
   "metadata": {
    "collapsed": false,
    "nbpresent": {
     "id": "234c5c64-0971-4a4b-88e0-713b595c7918"
    }
   },
   "outputs": [
    {
     "name": "stdout",
     "output_type": "stream",
     "text": [
      "xgb_sp_1.csv\n",
      "Predicte  418 labels.\n",
      "Died/Survived:  0.574 / 0.426\n"
     ]
    }
   ],
   "source": [
    "###########################################################################################################\n",
    "# predit final submit\n",
    "#\n",
    "print name\n",
    "print \"Predicte \", submit_df.shape[0], \"labels.\"\n",
    "submission = np.asarray(zip(submit_ids, p.astype(int)))\n",
    "srv_pct = \"%.3f\"%(submission[:,1].mean())\n",
    "print \"Died/Survived: \", \"%.3f\"%(1-submission[:,1].mean()) , \"/\", srv_pct\n",
    "\n",
    "output = submission[submission[:,0].argsort()]\n",
    "\n",
    "output_df = pd.DataFrame(output, columns=['PassengerId','Survived'])\n",
    "output_df.to_csv(data_dir + name,index=False)\n"
   ]
  },
  {
   "cell_type": "code",
   "execution_count": 17,
   "metadata": {
    "collapsed": true
   },
   "outputs": [],
   "source": [
    "def valid_(y_test, y_pred):\n",
    "    return 1-sum([ 1 if y_test[i]!=y_pred[i] else 0 for i in range(len(y_test))])*1.0/len(y_test)\n",
    "\n"
   ]
  },
  {
   "cell_type": "code",
   "execution_count": 94,
   "metadata": {
    "collapsed": false
   },
   "outputs": [],
   "source": [
    "view = pd.merge(test_df,output_df,on=['PassengerId'])"
   ]
  },
  {
   "cell_type": "code",
   "execution_count": 96,
   "metadata": {
    "collapsed": false
   },
   "outputs": [
    {
     "data": {
      "text/html": [
       "<div>\n",
       "<table border=\"1\" class=\"dataframe\">\n",
       "  <thead>\n",
       "    <tr style=\"text-align: right;\">\n",
       "      <th></th>\n",
       "      <th>PassengerId</th>\n",
       "      <th>Pclass</th>\n",
       "      <th>Name</th>\n",
       "      <th>Sex</th>\n",
       "      <th>Age</th>\n",
       "      <th>SibSp</th>\n",
       "      <th>Parch</th>\n",
       "      <th>Ticket</th>\n",
       "      <th>Fare</th>\n",
       "      <th>Cabin</th>\n",
       "      <th>Embarked</th>\n",
       "      <th>Survived</th>\n",
       "    </tr>\n",
       "  </thead>\n",
       "  <tbody>\n",
       "    <tr>\n",
       "      <th>7</th>\n",
       "      <td>899</td>\n",
       "      <td>2</td>\n",
       "      <td>Caldwell, Mr. Albert Francis</td>\n",
       "      <td>male</td>\n",
       "      <td>26.0</td>\n",
       "      <td>1</td>\n",
       "      <td>1</td>\n",
       "      <td>248738</td>\n",
       "      <td>29.0000</td>\n",
       "      <td>NaN</td>\n",
       "      <td>S</td>\n",
       "      <td>0</td>\n",
       "    </tr>\n",
       "    <tr>\n",
       "      <th>16</th>\n",
       "      <td>908</td>\n",
       "      <td>2</td>\n",
       "      <td>Keane, Mr. Daniel</td>\n",
       "      <td>male</td>\n",
       "      <td>35.0</td>\n",
       "      <td>0</td>\n",
       "      <td>0</td>\n",
       "      <td>233734</td>\n",
       "      <td>12.3500</td>\n",
       "      <td>NaN</td>\n",
       "      <td>Q</td>\n",
       "      <td>0</td>\n",
       "    </tr>\n",
       "    <tr>\n",
       "      <th>31</th>\n",
       "      <td>923</td>\n",
       "      <td>2</td>\n",
       "      <td>Jefferys, Mr. Clifford Thomas</td>\n",
       "      <td>male</td>\n",
       "      <td>24.0</td>\n",
       "      <td>2</td>\n",
       "      <td>0</td>\n",
       "      <td>C.A. 31029</td>\n",
       "      <td>31.5000</td>\n",
       "      <td>NaN</td>\n",
       "      <td>S</td>\n",
       "      <td>0</td>\n",
       "    </tr>\n",
       "    <tr>\n",
       "      <th>51</th>\n",
       "      <td>943</td>\n",
       "      <td>2</td>\n",
       "      <td>Pulbaum, Mr. Franz</td>\n",
       "      <td>male</td>\n",
       "      <td>27.0</td>\n",
       "      <td>0</td>\n",
       "      <td>0</td>\n",
       "      <td>SC/PARIS 2168</td>\n",
       "      <td>15.0333</td>\n",
       "      <td>NaN</td>\n",
       "      <td>C</td>\n",
       "      <td>0</td>\n",
       "    </tr>\n",
       "    <tr>\n",
       "      <th>61</th>\n",
       "      <td>953</td>\n",
       "      <td>2</td>\n",
       "      <td>McCrae, Mr. Arthur Gordon</td>\n",
       "      <td>male</td>\n",
       "      <td>32.0</td>\n",
       "      <td>0</td>\n",
       "      <td>0</td>\n",
       "      <td>237216</td>\n",
       "      <td>13.5000</td>\n",
       "      <td>NaN</td>\n",
       "      <td>S</td>\n",
       "      <td>0</td>\n",
       "    </tr>\n",
       "    <tr>\n",
       "      <th>78</th>\n",
       "      <td>970</td>\n",
       "      <td>2</td>\n",
       "      <td>Aldworth, Mr. Charles Augustus</td>\n",
       "      <td>male</td>\n",
       "      <td>30.0</td>\n",
       "      <td>0</td>\n",
       "      <td>0</td>\n",
       "      <td>248744</td>\n",
       "      <td>13.0000</td>\n",
       "      <td>NaN</td>\n",
       "      <td>S</td>\n",
       "      <td>0</td>\n",
       "    </tr>\n",
       "    <tr>\n",
       "      <th>101</th>\n",
       "      <td>993</td>\n",
       "      <td>2</td>\n",
       "      <td>Weisz, Mr. Leopold</td>\n",
       "      <td>male</td>\n",
       "      <td>27.0</td>\n",
       "      <td>1</td>\n",
       "      <td>0</td>\n",
       "      <td>228414</td>\n",
       "      <td>26.0000</td>\n",
       "      <td>NaN</td>\n",
       "      <td>S</td>\n",
       "      <td>0</td>\n",
       "    </tr>\n",
       "    <tr>\n",
       "      <th>109</th>\n",
       "      <td>1001</td>\n",
       "      <td>2</td>\n",
       "      <td>Swane, Mr. George</td>\n",
       "      <td>male</td>\n",
       "      <td>18.5</td>\n",
       "      <td>0</td>\n",
       "      <td>0</td>\n",
       "      <td>248734</td>\n",
       "      <td>13.0000</td>\n",
       "      <td>F</td>\n",
       "      <td>S</td>\n",
       "      <td>0</td>\n",
       "    </tr>\n",
       "    <tr>\n",
       "      <th>137</th>\n",
       "      <td>1029</td>\n",
       "      <td>2</td>\n",
       "      <td>Schmidt, Mr. August</td>\n",
       "      <td>male</td>\n",
       "      <td>26.0</td>\n",
       "      <td>0</td>\n",
       "      <td>0</td>\n",
       "      <td>248659</td>\n",
       "      <td>13.0000</td>\n",
       "      <td>NaN</td>\n",
       "      <td>S</td>\n",
       "      <td>0</td>\n",
       "    </tr>\n",
       "    <tr>\n",
       "      <th>143</th>\n",
       "      <td>1035</td>\n",
       "      <td>2</td>\n",
       "      <td>Beauchamp, Mr. Henry James</td>\n",
       "      <td>male</td>\n",
       "      <td>28.0</td>\n",
       "      <td>0</td>\n",
       "      <td>0</td>\n",
       "      <td>244358</td>\n",
       "      <td>26.0000</td>\n",
       "      <td>NaN</td>\n",
       "      <td>S</td>\n",
       "      <td>0</td>\n",
       "    </tr>\n",
       "    <tr>\n",
       "      <th>180</th>\n",
       "      <td>1072</td>\n",
       "      <td>2</td>\n",
       "      <td>McCrie, Mr. James Matthew</td>\n",
       "      <td>male</td>\n",
       "      <td>30.0</td>\n",
       "      <td>0</td>\n",
       "      <td>0</td>\n",
       "      <td>233478</td>\n",
       "      <td>13.0000</td>\n",
       "      <td>NaN</td>\n",
       "      <td>S</td>\n",
       "      <td>0</td>\n",
       "    </tr>\n",
       "    <tr>\n",
       "      <th>190</th>\n",
       "      <td>1082</td>\n",
       "      <td>2</td>\n",
       "      <td>Angle, Mr. William A</td>\n",
       "      <td>male</td>\n",
       "      <td>34.0</td>\n",
       "      <td>1</td>\n",
       "      <td>0</td>\n",
       "      <td>226875</td>\n",
       "      <td>26.0000</td>\n",
       "      <td>NaN</td>\n",
       "      <td>S</td>\n",
       "      <td>0</td>\n",
       "    </tr>\n",
       "    <tr>\n",
       "      <th>198</th>\n",
       "      <td>1090</td>\n",
       "      <td>2</td>\n",
       "      <td>Baimbrigge, Mr. Charles Robert</td>\n",
       "      <td>male</td>\n",
       "      <td>23.0</td>\n",
       "      <td>0</td>\n",
       "      <td>0</td>\n",
       "      <td>C.A. 31030</td>\n",
       "      <td>10.5000</td>\n",
       "      <td>NaN</td>\n",
       "      <td>S</td>\n",
       "      <td>0</td>\n",
       "    </tr>\n",
       "    <tr>\n",
       "      <th>204</th>\n",
       "      <td>1096</td>\n",
       "      <td>2</td>\n",
       "      <td>Andrew, Mr. Frank Thomas</td>\n",
       "      <td>male</td>\n",
       "      <td>25.0</td>\n",
       "      <td>0</td>\n",
       "      <td>0</td>\n",
       "      <td>C.A. 34050</td>\n",
       "      <td>10.5000</td>\n",
       "      <td>NaN</td>\n",
       "      <td>S</td>\n",
       "      <td>0</td>\n",
       "    </tr>\n",
       "    <tr>\n",
       "      <th>207</th>\n",
       "      <td>1099</td>\n",
       "      <td>2</td>\n",
       "      <td>Collett, Mr. Sidney C Stuart</td>\n",
       "      <td>male</td>\n",
       "      <td>24.0</td>\n",
       "      <td>0</td>\n",
       "      <td>0</td>\n",
       "      <td>28034</td>\n",
       "      <td>10.5000</td>\n",
       "      <td>NaN</td>\n",
       "      <td>S</td>\n",
       "      <td>0</td>\n",
       "    </tr>\n",
       "    <tr>\n",
       "      <th>212</th>\n",
       "      <td>1104</td>\n",
       "      <td>2</td>\n",
       "      <td>Deacon, Mr. Percy William</td>\n",
       "      <td>male</td>\n",
       "      <td>17.0</td>\n",
       "      <td>0</td>\n",
       "      <td>0</td>\n",
       "      <td>S.O.C. 14879</td>\n",
       "      <td>73.5000</td>\n",
       "      <td>NaN</td>\n",
       "      <td>S</td>\n",
       "      <td>0</td>\n",
       "    </tr>\n",
       "    <tr>\n",
       "      <th>229</th>\n",
       "      <td>1121</td>\n",
       "      <td>2</td>\n",
       "      <td>Hocking, Mr. Samuel James Metcalfe</td>\n",
       "      <td>male</td>\n",
       "      <td>36.0</td>\n",
       "      <td>0</td>\n",
       "      <td>0</td>\n",
       "      <td>242963</td>\n",
       "      <td>13.0000</td>\n",
       "      <td>NaN</td>\n",
       "      <td>S</td>\n",
       "      <td>0</td>\n",
       "    </tr>\n",
       "    <tr>\n",
       "      <th>230</th>\n",
       "      <td>1122</td>\n",
       "      <td>2</td>\n",
       "      <td>Sweet, Mr. George Frederick</td>\n",
       "      <td>male</td>\n",
       "      <td>14.0</td>\n",
       "      <td>0</td>\n",
       "      <td>0</td>\n",
       "      <td>220845</td>\n",
       "      <td>65.0000</td>\n",
       "      <td>NaN</td>\n",
       "      <td>S</td>\n",
       "      <td>0</td>\n",
       "    </tr>\n",
       "    <tr>\n",
       "      <th>264</th>\n",
       "      <td>1156</td>\n",
       "      <td>2</td>\n",
       "      <td>Portaluppi, Mr. Emilio Ilario Giuseppe</td>\n",
       "      <td>male</td>\n",
       "      <td>30.0</td>\n",
       "      <td>0</td>\n",
       "      <td>0</td>\n",
       "      <td>C.A. 34644</td>\n",
       "      <td>12.7375</td>\n",
       "      <td>NaN</td>\n",
       "      <td>C</td>\n",
       "      <td>0</td>\n",
       "    </tr>\n",
       "    <tr>\n",
       "      <th>276</th>\n",
       "      <td>1168</td>\n",
       "      <td>2</td>\n",
       "      <td>Parker, Mr. Clifford Richard</td>\n",
       "      <td>male</td>\n",
       "      <td>28.0</td>\n",
       "      <td>0</td>\n",
       "      <td>0</td>\n",
       "      <td>SC 14888</td>\n",
       "      <td>10.5000</td>\n",
       "      <td>NaN</td>\n",
       "      <td>S</td>\n",
       "      <td>0</td>\n",
       "    </tr>\n",
       "    <tr>\n",
       "      <th>278</th>\n",
       "      <td>1170</td>\n",
       "      <td>2</td>\n",
       "      <td>Ware, Mr. John James</td>\n",
       "      <td>male</td>\n",
       "      <td>30.0</td>\n",
       "      <td>1</td>\n",
       "      <td>0</td>\n",
       "      <td>CA 31352</td>\n",
       "      <td>21.0000</td>\n",
       "      <td>NaN</td>\n",
       "      <td>S</td>\n",
       "      <td>0</td>\n",
       "    </tr>\n",
       "    <tr>\n",
       "      <th>279</th>\n",
       "      <td>1171</td>\n",
       "      <td>2</td>\n",
       "      <td>Oxenham, Mr. Percy Thomas</td>\n",
       "      <td>male</td>\n",
       "      <td>22.0</td>\n",
       "      <td>0</td>\n",
       "      <td>0</td>\n",
       "      <td>W./C. 14260</td>\n",
       "      <td>10.5000</td>\n",
       "      <td>NaN</td>\n",
       "      <td>S</td>\n",
       "      <td>0</td>\n",
       "    </tr>\n",
       "    <tr>\n",
       "      <th>317</th>\n",
       "      <td>1209</td>\n",
       "      <td>2</td>\n",
       "      <td>Rogers, Mr. Reginald Harry</td>\n",
       "      <td>male</td>\n",
       "      <td>19.0</td>\n",
       "      <td>0</td>\n",
       "      <td>0</td>\n",
       "      <td>28004</td>\n",
       "      <td>10.5000</td>\n",
       "      <td>NaN</td>\n",
       "      <td>S</td>\n",
       "      <td>0</td>\n",
       "    </tr>\n",
       "    <tr>\n",
       "      <th>319</th>\n",
       "      <td>1211</td>\n",
       "      <td>2</td>\n",
       "      <td>Jefferys, Mr. Ernest Wilfred</td>\n",
       "      <td>male</td>\n",
       "      <td>22.0</td>\n",
       "      <td>2</td>\n",
       "      <td>0</td>\n",
       "      <td>C.A. 31029</td>\n",
       "      <td>31.5000</td>\n",
       "      <td>NaN</td>\n",
       "      <td>S</td>\n",
       "      <td>0</td>\n",
       "    </tr>\n",
       "    <tr>\n",
       "      <th>322</th>\n",
       "      <td>1214</td>\n",
       "      <td>2</td>\n",
       "      <td>Nesson, Mr. Israel</td>\n",
       "      <td>male</td>\n",
       "      <td>26.0</td>\n",
       "      <td>0</td>\n",
       "      <td>0</td>\n",
       "      <td>244368</td>\n",
       "      <td>13.0000</td>\n",
       "      <td>F2</td>\n",
       "      <td>S</td>\n",
       "      <td>0</td>\n",
       "    </tr>\n",
       "    <tr>\n",
       "      <th>328</th>\n",
       "      <td>1220</td>\n",
       "      <td>2</td>\n",
       "      <td>Clarke, Mr. Charles Valentine</td>\n",
       "      <td>male</td>\n",
       "      <td>29.0</td>\n",
       "      <td>1</td>\n",
       "      <td>0</td>\n",
       "      <td>2003</td>\n",
       "      <td>26.0000</td>\n",
       "      <td>NaN</td>\n",
       "      <td>S</td>\n",
       "      <td>0</td>\n",
       "    </tr>\n",
       "    <tr>\n",
       "      <th>329</th>\n",
       "      <td>1221</td>\n",
       "      <td>2</td>\n",
       "      <td>Enander, Mr. Ingvar</td>\n",
       "      <td>male</td>\n",
       "      <td>21.0</td>\n",
       "      <td>0</td>\n",
       "      <td>0</td>\n",
       "      <td>236854</td>\n",
       "      <td>13.0000</td>\n",
       "      <td>NaN</td>\n",
       "      <td>S</td>\n",
       "      <td>0</td>\n",
       "    </tr>\n",
       "    <tr>\n",
       "      <th>336</th>\n",
       "      <td>1228</td>\n",
       "      <td>2</td>\n",
       "      <td>de Brito, Mr. Jose Joaquim</td>\n",
       "      <td>male</td>\n",
       "      <td>32.0</td>\n",
       "      <td>0</td>\n",
       "      <td>0</td>\n",
       "      <td>244360</td>\n",
       "      <td>13.0000</td>\n",
       "      <td>NaN</td>\n",
       "      <td>S</td>\n",
       "      <td>0</td>\n",
       "    </tr>\n",
       "    <tr>\n",
       "      <th>338</th>\n",
       "      <td>1230</td>\n",
       "      <td>2</td>\n",
       "      <td>Denbury, Mr. Herbert</td>\n",
       "      <td>male</td>\n",
       "      <td>25.0</td>\n",
       "      <td>0</td>\n",
       "      <td>0</td>\n",
       "      <td>C.A. 31029</td>\n",
       "      <td>31.5000</td>\n",
       "      <td>NaN</td>\n",
       "      <td>S</td>\n",
       "      <td>0</td>\n",
       "    </tr>\n",
       "    <tr>\n",
       "      <th>340</th>\n",
       "      <td>1232</td>\n",
       "      <td>2</td>\n",
       "      <td>Fillbrook, Mr. Joseph Charles</td>\n",
       "      <td>male</td>\n",
       "      <td>18.0</td>\n",
       "      <td>0</td>\n",
       "      <td>0</td>\n",
       "      <td>C.A. 15185</td>\n",
       "      <td>10.5000</td>\n",
       "      <td>NaN</td>\n",
       "      <td>S</td>\n",
       "      <td>0</td>\n",
       "    </tr>\n",
       "    <tr>\n",
       "      <th>346</th>\n",
       "      <td>1238</td>\n",
       "      <td>2</td>\n",
       "      <td>Botsford, Mr. William Hull</td>\n",
       "      <td>male</td>\n",
       "      <td>26.0</td>\n",
       "      <td>0</td>\n",
       "      <td>0</td>\n",
       "      <td>237670</td>\n",
       "      <td>13.0000</td>\n",
       "      <td>NaN</td>\n",
       "      <td>S</td>\n",
       "      <td>0</td>\n",
       "    </tr>\n",
       "    <tr>\n",
       "      <th>348</th>\n",
       "      <td>1240</td>\n",
       "      <td>2</td>\n",
       "      <td>Giles, Mr. Ralph</td>\n",
       "      <td>male</td>\n",
       "      <td>24.0</td>\n",
       "      <td>0</td>\n",
       "      <td>0</td>\n",
       "      <td>248726</td>\n",
       "      <td>13.5000</td>\n",
       "      <td>NaN</td>\n",
       "      <td>S</td>\n",
       "      <td>0</td>\n",
       "    </tr>\n",
       "    <tr>\n",
       "      <th>351</th>\n",
       "      <td>1243</td>\n",
       "      <td>2</td>\n",
       "      <td>Stokes, Mr. Philip Joseph</td>\n",
       "      <td>male</td>\n",
       "      <td>25.0</td>\n",
       "      <td>0</td>\n",
       "      <td>0</td>\n",
       "      <td>F.C.C. 13540</td>\n",
       "      <td>10.5000</td>\n",
       "      <td>NaN</td>\n",
       "      <td>S</td>\n",
       "      <td>0</td>\n",
       "    </tr>\n",
       "    <tr>\n",
       "      <th>352</th>\n",
       "      <td>1244</td>\n",
       "      <td>2</td>\n",
       "      <td>Dibden, Mr. William</td>\n",
       "      <td>male</td>\n",
       "      <td>18.0</td>\n",
       "      <td>0</td>\n",
       "      <td>0</td>\n",
       "      <td>S.O.C. 14879</td>\n",
       "      <td>73.5000</td>\n",
       "      <td>NaN</td>\n",
       "      <td>S</td>\n",
       "      <td>0</td>\n",
       "    </tr>\n",
       "    <tr>\n",
       "      <th>369</th>\n",
       "      <td>1261</td>\n",
       "      <td>2</td>\n",
       "      <td>Pallas y Castello, Mr. Emilio</td>\n",
       "      <td>male</td>\n",
       "      <td>29.0</td>\n",
       "      <td>0</td>\n",
       "      <td>0</td>\n",
       "      <td>SC/PARIS 2147</td>\n",
       "      <td>13.8583</td>\n",
       "      <td>NaN</td>\n",
       "      <td>C</td>\n",
       "      <td>0</td>\n",
       "    </tr>\n",
       "    <tr>\n",
       "      <th>370</th>\n",
       "      <td>1262</td>\n",
       "      <td>2</td>\n",
       "      <td>Giles, Mr. Edgar</td>\n",
       "      <td>male</td>\n",
       "      <td>21.0</td>\n",
       "      <td>1</td>\n",
       "      <td>0</td>\n",
       "      <td>28133</td>\n",
       "      <td>11.5000</td>\n",
       "      <td>NaN</td>\n",
       "      <td>S</td>\n",
       "      <td>0</td>\n",
       "    </tr>\n",
       "    <tr>\n",
       "      <th>377</th>\n",
       "      <td>1269</td>\n",
       "      <td>2</td>\n",
       "      <td>Cotterill, Mr. Henry Harry\"\"</td>\n",
       "      <td>male</td>\n",
       "      <td>21.0</td>\n",
       "      <td>0</td>\n",
       "      <td>0</td>\n",
       "      <td>29107</td>\n",
       "      <td>11.5000</td>\n",
       "      <td>NaN</td>\n",
       "      <td>S</td>\n",
       "      <td>0</td>\n",
       "    </tr>\n",
       "    <tr>\n",
       "      <th>401</th>\n",
       "      <td>1293</td>\n",
       "      <td>2</td>\n",
       "      <td>Gale, Mr. Harry</td>\n",
       "      <td>male</td>\n",
       "      <td>38.0</td>\n",
       "      <td>1</td>\n",
       "      <td>0</td>\n",
       "      <td>28664</td>\n",
       "      <td>21.0000</td>\n",
       "      <td>NaN</td>\n",
       "      <td>S</td>\n",
       "      <td>0</td>\n",
       "    </tr>\n",
       "    <tr>\n",
       "      <th>405</th>\n",
       "      <td>1297</td>\n",
       "      <td>2</td>\n",
       "      <td>Nourney, Mr. Alfred (Baron von Drachstedt\")\"</td>\n",
       "      <td>male</td>\n",
       "      <td>20.0</td>\n",
       "      <td>0</td>\n",
       "      <td>0</td>\n",
       "      <td>SC/PARIS 2166</td>\n",
       "      <td>13.8625</td>\n",
       "      <td>D38</td>\n",
       "      <td>C</td>\n",
       "      <td>0</td>\n",
       "    </tr>\n",
       "    <tr>\n",
       "      <th>406</th>\n",
       "      <td>1298</td>\n",
       "      <td>2</td>\n",
       "      <td>Ware, Mr. William Jeffery</td>\n",
       "      <td>male</td>\n",
       "      <td>23.0</td>\n",
       "      <td>1</td>\n",
       "      <td>0</td>\n",
       "      <td>28666</td>\n",
       "      <td>10.5000</td>\n",
       "      <td>NaN</td>\n",
       "      <td>S</td>\n",
       "      <td>0</td>\n",
       "    </tr>\n",
       "  </tbody>\n",
       "</table>\n",
       "</div>"
      ],
      "text/plain": [
       "     PassengerId  Pclass                                          Name   Sex  \\\n",
       "7            899       2                  Caldwell, Mr. Albert Francis  male   \n",
       "16           908       2                             Keane, Mr. Daniel  male   \n",
       "31           923       2                 Jefferys, Mr. Clifford Thomas  male   \n",
       "51           943       2                            Pulbaum, Mr. Franz  male   \n",
       "61           953       2                     McCrae, Mr. Arthur Gordon  male   \n",
       "78           970       2                Aldworth, Mr. Charles Augustus  male   \n",
       "101          993       2                            Weisz, Mr. Leopold  male   \n",
       "109         1001       2                             Swane, Mr. George  male   \n",
       "137         1029       2                           Schmidt, Mr. August  male   \n",
       "143         1035       2                    Beauchamp, Mr. Henry James  male   \n",
       "180         1072       2                     McCrie, Mr. James Matthew  male   \n",
       "190         1082       2                          Angle, Mr. William A  male   \n",
       "198         1090       2                Baimbrigge, Mr. Charles Robert  male   \n",
       "204         1096       2                      Andrew, Mr. Frank Thomas  male   \n",
       "207         1099       2                  Collett, Mr. Sidney C Stuart  male   \n",
       "212         1104       2                     Deacon, Mr. Percy William  male   \n",
       "229         1121       2            Hocking, Mr. Samuel James Metcalfe  male   \n",
       "230         1122       2                   Sweet, Mr. George Frederick  male   \n",
       "264         1156       2        Portaluppi, Mr. Emilio Ilario Giuseppe  male   \n",
       "276         1168       2                  Parker, Mr. Clifford Richard  male   \n",
       "278         1170       2                          Ware, Mr. John James  male   \n",
       "279         1171       2                     Oxenham, Mr. Percy Thomas  male   \n",
       "317         1209       2                    Rogers, Mr. Reginald Harry  male   \n",
       "319         1211       2                  Jefferys, Mr. Ernest Wilfred  male   \n",
       "322         1214       2                            Nesson, Mr. Israel  male   \n",
       "328         1220       2                 Clarke, Mr. Charles Valentine  male   \n",
       "329         1221       2                           Enander, Mr. Ingvar  male   \n",
       "336         1228       2                    de Brito, Mr. Jose Joaquim  male   \n",
       "338         1230       2                          Denbury, Mr. Herbert  male   \n",
       "340         1232       2                 Fillbrook, Mr. Joseph Charles  male   \n",
       "346         1238       2                    Botsford, Mr. William Hull  male   \n",
       "348         1240       2                              Giles, Mr. Ralph  male   \n",
       "351         1243       2                     Stokes, Mr. Philip Joseph  male   \n",
       "352         1244       2                           Dibden, Mr. William  male   \n",
       "369         1261       2                 Pallas y Castello, Mr. Emilio  male   \n",
       "370         1262       2                              Giles, Mr. Edgar  male   \n",
       "377         1269       2                  Cotterill, Mr. Henry Harry\"\"  male   \n",
       "401         1293       2                               Gale, Mr. Harry  male   \n",
       "405         1297       2  Nourney, Mr. Alfred (Baron von Drachstedt\")\"  male   \n",
       "406         1298       2                     Ware, Mr. William Jeffery  male   \n",
       "\n",
       "      Age  SibSp  Parch         Ticket     Fare Cabin Embarked  Survived  \n",
       "7    26.0      1      1         248738  29.0000   NaN        S         0  \n",
       "16   35.0      0      0         233734  12.3500   NaN        Q         0  \n",
       "31   24.0      2      0     C.A. 31029  31.5000   NaN        S         0  \n",
       "51   27.0      0      0  SC/PARIS 2168  15.0333   NaN        C         0  \n",
       "61   32.0      0      0         237216  13.5000   NaN        S         0  \n",
       "78   30.0      0      0         248744  13.0000   NaN        S         0  \n",
       "101  27.0      1      0         228414  26.0000   NaN        S         0  \n",
       "109  18.5      0      0         248734  13.0000     F        S         0  \n",
       "137  26.0      0      0         248659  13.0000   NaN        S         0  \n",
       "143  28.0      0      0         244358  26.0000   NaN        S         0  \n",
       "180  30.0      0      0         233478  13.0000   NaN        S         0  \n",
       "190  34.0      1      0         226875  26.0000   NaN        S         0  \n",
       "198  23.0      0      0     C.A. 31030  10.5000   NaN        S         0  \n",
       "204  25.0      0      0     C.A. 34050  10.5000   NaN        S         0  \n",
       "207  24.0      0      0          28034  10.5000   NaN        S         0  \n",
       "212  17.0      0      0   S.O.C. 14879  73.5000   NaN        S         0  \n",
       "229  36.0      0      0         242963  13.0000   NaN        S         0  \n",
       "230  14.0      0      0         220845  65.0000   NaN        S         0  \n",
       "264  30.0      0      0     C.A. 34644  12.7375   NaN        C         0  \n",
       "276  28.0      0      0       SC 14888  10.5000   NaN        S         0  \n",
       "278  30.0      1      0       CA 31352  21.0000   NaN        S         0  \n",
       "279  22.0      0      0    W./C. 14260  10.5000   NaN        S         0  \n",
       "317  19.0      0      0          28004  10.5000   NaN        S         0  \n",
       "319  22.0      2      0     C.A. 31029  31.5000   NaN        S         0  \n",
       "322  26.0      0      0         244368  13.0000    F2        S         0  \n",
       "328  29.0      1      0           2003  26.0000   NaN        S         0  \n",
       "329  21.0      0      0         236854  13.0000   NaN        S         0  \n",
       "336  32.0      0      0         244360  13.0000   NaN        S         0  \n",
       "338  25.0      0      0     C.A. 31029  31.5000   NaN        S         0  \n",
       "340  18.0      0      0     C.A. 15185  10.5000   NaN        S         0  \n",
       "346  26.0      0      0         237670  13.0000   NaN        S         0  \n",
       "348  24.0      0      0         248726  13.5000   NaN        S         0  \n",
       "351  25.0      0      0   F.C.C. 13540  10.5000   NaN        S         0  \n",
       "352  18.0      0      0   S.O.C. 14879  73.5000   NaN        S         0  \n",
       "369  29.0      0      0  SC/PARIS 2147  13.8583   NaN        C         0  \n",
       "370  21.0      1      0          28133  11.5000   NaN        S         0  \n",
       "377  21.0      0      0          29107  11.5000   NaN        S         0  \n",
       "401  38.0      1      0          28664  21.0000   NaN        S         0  \n",
       "405  20.0      0      0  SC/PARIS 2166  13.8625   D38        C         0  \n",
       "406  23.0      1      0          28666  10.5000   NaN        S         0  "
      ]
     },
     "execution_count": 96,
     "metadata": {},
     "output_type": "execute_result"
    }
   ],
   "source": [
    "view[(view.Survived==0) & (view.Pclass==2) & (view.Age<40)]"
   ]
  }
 ],
 "metadata": {
  "anaconda-cloud": {},
  "celltoolbar": "Raw Cell Format",
  "kernelspec": {
   "display_name": "Python [default]",
   "language": "python",
   "name": "python2"
  },
  "language_info": {
   "codemirror_mode": {
    "name": "ipython",
    "version": 2
   },
   "file_extension": ".py",
   "mimetype": "text/x-python",
   "name": "python",
   "nbconvert_exporter": "python",
   "pygments_lexer": "ipython2",
   "version": "2.7.12"
  }
 },
 "nbformat": 4,
 "nbformat_minor": 0
}
